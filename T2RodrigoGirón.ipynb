{
 "cells": [
  {
   "cell_type": "markdown",
   "metadata": {},
   "source": [
    "\n",
    "\n",
    "### Rodrigo Girón Lugo\n",
    "### ic708476"
   ]
  },
  {
   "cell_type": "markdown",
   "metadata": {},
   "source": [
    "RESUMEN:\n",
    "- Resumen 1: [Python se vuelve el lenguaje mas famoso de programación](https://www.economist.com/graphic-detail/2018/07/26/python-is-becoming-the-worlds-most-popular-coding-language)\\\n",
    "Aqui va texto.\n",
    "\n",
    "\n",
    "- Resumen 2: [¿Python el lenguaje de programación del año?](https://www.zdnet.com/article/programming-language-of-the-year-python-is-standout-in-latest-rankings/)\\\n",
    "Aqui va texto."
   ]
  },
  {
   "cell_type": "markdown",
   "metadata": {},
   "source": [
    "[Enlace de Github](https://github.com/rodrigo-giron/Tarea2_SM/tree/Trabajo)"
   ]
  }
 ],
 "metadata": {
  "kernelspec": {
   "display_name": "Python 3",
   "language": "python",
   "name": "python3"
  },
  "language_info": {
   "codemirror_mode": {
    "name": "ipython",
    "version": 3
   },
   "file_extension": ".py",
   "mimetype": "text/x-python",
   "name": "python",
   "nbconvert_exporter": "python",
   "pygments_lexer": "ipython3",
   "version": "3.7.3"
  }
 },
 "nbformat": 4,
 "nbformat_minor": 2
}
