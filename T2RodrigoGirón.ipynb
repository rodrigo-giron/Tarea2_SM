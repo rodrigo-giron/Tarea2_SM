{
 "cells": [
  {
   "cell_type": "markdown",
   "metadata": {},
   "source": [
    "\n",
    "\n",
    "### Rodrigo Girón Lugo\n",
    "### ic708476"
   ]
  },
  {
   "cell_type": "markdown",
   "metadata": {},
   "source": [
    "RESUMEN:\n",
    "- Resumen 1: [Python se vuelve el lenguaje mas famoso de programación](https://www.economist.com/graphic-detail/2018/07/26/python-is-becoming-the-worlds-most-popular-coding-language)\\\n",
    "\n",
    "\n",
    "Las dos ventajas principales del lenguaje son su simplicidad y flexibilidad. Su sintaxis directa y el uso de espacios sangrados hacen que sea fácil de aprender, leer y compartir. Sus ávidos practicantes, conocidos como Pythonistas, han subido 145,000 paquetes de software personalizados a un repositorio en línea. Estos cubren todo, desde el desarrollo del juego hasta la astronomía, y se pueden instalar e insertar en un programa Python en cuestión de segundos. Esta versatilidad significa que la Agencia Central de Inteligencia lo ha utilizado para piratear, Google para rastrear páginas web, Pixar para producir películas y Spotify para recomendar canciones. Algunos de los paquetes más populares aprovechan el \"aprendizaje automático\", al procesar grandes cantidades de datos para seleccionar patrones que de otro modo serían imperceptibles.\\\n",
    "\n",
    "\n",
    "Con una base de usuarios de tan rápido crecimiento y una amplia gama de capacidades, Python puede parecer destinado a convertirse en la lengua franca de la codificación, dejando obsoletos a todos los demás competidores. Eso es poco probable, según Grady Booch, el principal científico de software de IBM, que compara los lenguajes de programación con los imperios. Aunque a veces una potencia en ascenso podría estar preparada para dominar el mundo, sus rivales generalmente sobreviven en los nichos técnicos y culturales en los que emergieron. Python no reemplazará C y C ++, que son \"opciones de nivel inferior\" que le dan al usuario más control sobre lo que está sucediendo en el procesador de una computadora. Tampoco eliminará Java, que es popular para crear aplicaciones complicadas, o JavaScript, que alimenta la mayoría de las páginas web.\n",
    "\n",
    "- Resumen 2: [¿Python el lenguaje de programación del año?](https://www.zdnet.com/article/programming-language-of-the-year-python-is-standout-in-latest-rankings/)\\\n",
    "Aqui va texto."
   ]
  },
  {
   "cell_type": "markdown",
   "metadata": {},
   "source": [
    "[Enlace de Github](https://github.com/rodrigo-giron/Tarea2_SM)"
   ]
  }
 ],
 "metadata": {
  "kernelspec": {
   "display_name": "Python 3",
   "language": "python",
   "name": "python3"
  },
  "language_info": {
   "codemirror_mode": {
    "name": "ipython",
    "version": 3
   },
   "file_extension": ".py",
   "mimetype": "text/x-python",
   "name": "python",
   "nbconvert_exporter": "python",
   "pygments_lexer": "ipython3",
   "version": "3.7.3"
  }
 },
 "nbformat": 4,
 "nbformat_minor": 2
}
