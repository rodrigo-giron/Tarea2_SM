{
 "cells": [
  {
   "cell_type": "markdown",
   "metadata": {},
   "source": [
    "\n",
    "\n",
    "### Rodrigo Girón Lugo\n",
    "### ic708476"
   ]
  },
  {
   "cell_type": "markdown",
   "metadata": {},
   "source": [
    "RESUMEN:\n",
    "- Resumen 1: [Python se vuelve el lenguaje mas famoso de programación](https://www.economist.com/graphic-detail/2018/07/26/python-is-becoming-the-worlds-most-popular-coding-language)\n",
    "\n",
    "\n",
    "Las dos ventajas principales del lenguaje son su simplicidad y flexibilidad. Su sintaxis directa hace que sea fácil de aprender, leer y compartir. Cuenta con 145,000 paquetes de software personalizados en un repositorio en línea.\\\n",
    "\n",
    "\n",
    "Con una base de usuarios de tan rápido crecimiento y una amplia gama de capacidades, Python puede parecer destinado a convertirse en la lengua mas importante de la codificación, dejando obsoletos a todos los demás competidores. Eso es poco probable, según Grady Booch, el principal científico de software de IBM. Python no reemplazará C y C ++, que son \"opciones de nivel inferior\" que le dan al usuario más control sobre lo que está sucediendo en el procesador de una computadora. Tampoco eliminará Java, que es popular para crear aplicaciones complicadas, o JavaScript, que alimenta la mayoría de las páginas web.\n",
    "\n",
    "- Resumen 2: [¿Python el lenguaje de programación del año?](https://www.zdnet.com/article/programming-language-of-the-year-python-is-standout-in-latest-rankings/)\n",
    "\n",
    "\n",
    "Python ha consolidado su lugar entre los tres principales lenguajes de programación más populares. Python fue creado en 1989 por el programador holandés Guido van Rossum, quien renunció a su papel de \"dictador benevolente de por vida\" de Python en julio.\\\n",
    "Python ingresó a los tres primeros en el índice de popularidad de Tiobe en septiembre, gracias a su uso en un número creciente de campos. Como señala Tiobe, a menudo es el primer idioma que se enseña en las universidades y es el idioma de referencia para el análisis estadístico, el aprendizaje automático, las secuencias de comandos, la programación web y la informática científica.\\\n",
    "También es el lenguaje más popular entre los hackers, gracias a su sintaxis fácil de entender, amplia disponibilidad de tutoriales en línea y una gran cantidad de bibliotecas de software de terceros inofensivas que pueden reutilizarse para uso malicioso.\\"
   ]
  },
  {
   "cell_type": "markdown",
   "metadata": {},
   "source": [
    "Enlace a mi Perfil para ver el trabajo"
   ]
  },
  {
   "cell_type": "markdown",
   "metadata": {},
   "source": [
    "[Enlace de Github](https://github.com/rodrigo-giron/Tarea2_SM)"
   ]
  }
 ],
 "metadata": {
  "kernelspec": {
   "display_name": "Python 3",
   "language": "python",
   "name": "python3"
  },
  "language_info": {
   "codemirror_mode": {
    "name": "ipython",
    "version": 3
   },
   "file_extension": ".py",
   "mimetype": "text/x-python",
   "name": "python",
   "nbconvert_exporter": "python",
   "pygments_lexer": "ipython3",
   "version": "3.7.3"
  }
 },
 "nbformat": 4,
 "nbformat_minor": 2
}
